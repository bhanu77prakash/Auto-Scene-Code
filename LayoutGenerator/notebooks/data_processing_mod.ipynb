{
 "cells": [
  {
   "cell_type": "code",
   "execution_count": 1,
   "id": "119b9955",
   "metadata": {},
   "outputs": [],
   "source": [
    "def calc_intersection_area(box1_list, box2_list):\n",
    "    box1 ={}\n",
    "    box1['xmin'] = box1_list[0]\n",
    "    box1['ymin'] = box1_list[1]\n",
    "    box1['xmax'] = box1_list[2]\n",
    "    box1['ymax'] = box1_list[3]\n",
    "\n",
    "    box2 ={}\n",
    "    box2['xmin'] = box2_list[0]\n",
    "    box2['ymin'] = box2_list[1]\n",
    "    box2['xmax'] = box2_list[2]\n",
    "    box2['ymax'] = box2_list[3]\n",
    "\n",
    "    #corrdinates of intersection\n",
    "    int_x_min = max(box1['xmin'], box2['xmin'])\n",
    "    int_x_max = min(box1['xmax'], box2['xmax'])\n",
    "    int_y_min = max(box1['ymin'], box2['ymin'])\n",
    "    int_y_max = min(box1['ymax'], box2['ymax'])\n",
    "\n",
    "    if((int_x_max<int_x_min) or (int_y_max<int_y_min)):\n",
    "        return 0.0\n",
    "\n",
    "    int_area = (int_y_max-int_y_min)*(int_x_max-int_x_min) \n",
    "    \n",
    "    return int_area\n",
    "\n",
    "def calc_union_area(box1_list, box2_list):\n",
    "    box1 ={}\n",
    "    box1['xmin'] = box1_list[0]\n",
    "    box1['ymin'] = box1_list[1]\n",
    "    box1['xmax'] = box1_list[2]\n",
    "    box1['ymax'] = box1_list[3]\n",
    "\n",
    "    box2 ={}\n",
    "    box2['xmin'] = box2_list[0]\n",
    "    box2['ymin'] = box2_list[1]\n",
    "    box2['xmax'] = box2_list[2]\n",
    "    box2['ymax'] = box2_list[3]\n",
    "\n",
    "    #corrdinates of intersection\n",
    "    int_x_min = max(box1['xmin'], box2['xmin'])\n",
    "    int_x_max = min(box1['xmax'], box2['xmax'])\n",
    "    int_y_min = max(box1['ymin'], box2['ymin'])\n",
    "    int_y_max = min(box1['ymax'], box2['ymax'])\n",
    "\n",
    "    if((int_x_max<int_x_min) or (int_y_max<int_y_min)):\n",
    "        return 0.0\n",
    "\n",
    "    int_area = (int_y_max-int_y_min)*(int_x_max-int_x_min) \n",
    "    area_box1 = (box1['xmax'] - box1['xmin']) * (box1['ymax'] - box1['ymin'])\n",
    "    area_box2 = (box2['xmax'] - box2['xmin']) * (box2['ymax'] - box2['ymin'])\n",
    "    \n",
    "    return float(area_box1+area_box2-int_area)"
   ]
  },
  {
   "cell_type": "code",
   "execution_count": 2,
   "id": "aa253e77",
   "metadata": {},
   "outputs": [],
   "source": [
    "import json\n",
    "import glob\n",
    "import numpy as np\n",
    "from tqdm import tqdm"
   ]
  },
  {
   "cell_type": "markdown",
   "id": "91537270",
   "metadata": {},
   "source": [
    "# Available files"
   ]
  },
  {
   "cell_type": "code",
   "execution_count": 3,
   "id": "7415bd33",
   "metadata": {},
   "outputs": [],
   "source": [
    "with open(\"finaldata_gt.json\") as f:\n",
    "    json_gt = json.load(f)\n",
    "    \n",
    "completed_list = []\n",
    "for name in glob.glob('layout_completed/*.json'):\n",
    "    num = int(name.split(\"/\")[1].split(\".\")[0])\n",
    "    completed_list.append(num)\n",
    "    \n",
    "gt_list = []\n",
    "for name in glob.glob('layout_gt/*.json'):\n",
    "    num = int(name.split(\"/\")[1].split(\".\")[0])\n",
    "    gt_list.append(num)\n",
    "    \n",
    "missing_list = []\n",
    "for name in glob.glob('layout_missing/*.json'):\n",
    "    num = int(name.split(\"/\")[1].split(\".\")[0])\n",
    "    missing_list.append(num)"
   ]
  },
  {
   "cell_type": "code",
   "execution_count": 4,
   "id": "f0f8c691",
   "metadata": {},
   "outputs": [
    {
     "name": "stdout",
     "output_type": "stream",
     "text": [
      "3596\n",
      "2811\n",
      "920\n",
      "2966\n"
     ]
    }
   ],
   "source": [
    "print(len(json_gt))\n",
    "print(len(completed_list))\n",
    "print(len(gt_list))\n",
    "print(len(missing_list))\n"
   ]
  },
  {
   "cell_type": "markdown",
   "id": "284cfba9",
   "metadata": {},
   "source": [
    "# Calculating for all "
   ]
  },
  {
   "cell_type": "code",
   "execution_count": 5,
   "id": "65a36b54",
   "metadata": {},
   "outputs": [
    {
     "name": "stderr",
     "output_type": "stream",
     "text": [
      "100%|██████████| 3596/3596 [00:00<00:00, 12990.36it/s]\n"
     ]
    }
   ],
   "source": [
    "gt_iou_dict = {}\n",
    "completed_iou_dict = {}\n",
    "missing_iou_dict = {}\n",
    "\n",
    "\n",
    "for obj in tqdm(json_gt, total = len(json_gt)):\n",
    "    id_obj = obj['id']\n",
    "    if((id_obj in completed_list) & (id_obj in gt_list) & (id_obj in missing_list)):\n",
    "        \n",
    "        height = obj['height']\n",
    "        width = obj['width']\n",
    "        \n",
    "        with open('layout_completed/' + str(id_obj) + '.json') as f:\n",
    "            completed_json = json.load(f)\n",
    "            completed_obj_dict = {}\n",
    "            if(len(completed_json['classes']) == 1):\n",
    "                completed_json['boxes'] = [completed_json['boxes']]\n",
    "            for box, clas in zip(completed_json['boxes'], completed_json['classes']):\n",
    "                if clas in completed_obj_dict.keys():\n",
    "                    completed_obj_dict[clas].append(box)\n",
    "                else:\n",
    "                    completed_obj_dict[clas] = []\n",
    "                    completed_obj_dict[clas].append(box)\n",
    "            \n",
    "        with open('layout_gt/' + str(id_obj) + '.json') as f:\n",
    "            gt_json = json.load(f)\n",
    "            gt_obj_dict = {}\n",
    "            if(len(gt_json['classes']) == 1):\n",
    "                gt_json['boxes'] = [gt_json['boxes']]\n",
    "            for box, clas in zip(gt_json['boxes'], gt_json['classes']):\n",
    "                if clas in gt_obj_dict.keys():\n",
    "                    gt_obj_dict[clas].append(box)\n",
    "                else:\n",
    "                    gt_obj_dict[clas] = []\n",
    "                    gt_obj_dict[clas].append(box)\n",
    "            \n",
    "        with open('layout_missing/' + str(id_obj) + '.json') as f:\n",
    "            missing_json = json.load(f)\n",
    "            missing_obj_dict = {}\n",
    "            if(len(missing_json['classes']) == 1):\n",
    "                missing_json['boxes'] = [missing_json['boxes']]\n",
    "            for box, clas in zip(missing_json['boxes'], missing_json['classes']):\n",
    "                if clas in missing_obj_dict.keys():\n",
    "                    missing_obj_dict[clas].append(box)\n",
    "                else:\n",
    "                    missing_obj_dict[clas] = []\n",
    "                    missing_obj_dict[clas].append(box)\n",
    "                    \n",
    "        #check\n",
    "        gt_clss = set([o['class'] for o in obj['objects']])\n",
    "        miss_clss = set(list(missing_obj_dict.keys()))\n",
    "        compl_clss = set(list(completed_obj_dict.keys()))\n",
    "        \n",
    "        if(len(gt_clss-compl_clss)>=len(gt_clss-miss_clss)):\n",
    "            continue\n",
    "        \n",
    "        gt_num = 0\n",
    "        gt_denum = 0\n",
    "        completed_num = 0\n",
    "        completed_denum = 0\n",
    "        missing_num = 0\n",
    "        missing_denum = 0\n",
    "        \n",
    "        \n",
    "        for gt_obj in obj['objects']:\n",
    "            box = gt_obj['box']\n",
    "            box = [box[0]/width, box[1]/height, box[2]/width, box[3]/height]\n",
    "            clas = gt_obj['class']\n",
    "            box_area = (box[3]-box[1])*(box[2]-box[0])\n",
    "            \n",
    "            #for gt\n",
    "            if clas in gt_obj_dict.keys():\n",
    "                best_overlap = 0\n",
    "                best_pos = None\n",
    "                \n",
    "                for coords in gt_obj_dict[clas]:\n",
    "                    int_area = calc_intersection_area(coords, box)\n",
    "                    if(int_area>=best_overlap):\n",
    "                        best_overlap = int_area\n",
    "                        best_pos = coords\n",
    "                        \n",
    "                gt_obj_dict[clas].remove(best_pos)\n",
    "                if(len(gt_obj_dict[clas])==0):\n",
    "                    del gt_obj_dict[clas]\n",
    "                gt_num += calc_intersection_area(best_pos, box)\n",
    "                gt_denum += calc_union_area(best_pos, box)  \n",
    "            else:\n",
    "                gt_denum += box_area\n",
    "                \n",
    "            #for completed\n",
    "            if clas in completed_obj_dict.keys():\n",
    "                best_overlap = 0\n",
    "                best_pos = None\n",
    "                \n",
    "                for coords in completed_obj_dict[clas]:\n",
    "                    int_area = calc_intersection_area(coords, box)\n",
    "                    if(int_area>=best_overlap):\n",
    "                        best_overlap = int_area\n",
    "                        best_pos = coords\n",
    "                        \n",
    "                completed_obj_dict[clas].remove(best_pos)\n",
    "                if(len(completed_obj_dict[clas])==0):\n",
    "                    del completed_obj_dict[clas]\n",
    "                completed_num += calc_intersection_area(best_pos, box)\n",
    "                completed_denum += calc_union_area(best_pos, box)  \n",
    "            else:\n",
    "                completed_denum += box_area\n",
    "                \n",
    "            \n",
    "            #for missing\n",
    "            if clas in missing_obj_dict.keys():\n",
    "                best_overlap = 0\n",
    "                best_pos = None\n",
    "                \n",
    "                for coords in missing_obj_dict[clas]:\n",
    "                    int_area = calc_intersection_area(coords, box)\n",
    "                    if(int_area>=best_overlap):\n",
    "                        best_overlap = int_area\n",
    "                        best_pos = coords\n",
    "                        \n",
    "                missing_obj_dict[clas].remove(best_pos)\n",
    "                if(len(missing_obj_dict[clas])==0):\n",
    "                    del missing_obj_dict[clas]\n",
    "                missing_num += calc_intersection_area(best_pos, box)\n",
    "                missing_denum += calc_union_area(best_pos, box)  \n",
    "            else:\n",
    "                missing_denum += box_area\n",
    "                \n",
    "        if(gt_denum>0):\n",
    "            gt_iou_dict[id_obj] = float(gt_num/gt_denum)\n",
    "        else:\n",
    "            gt_iou_dict[id_obj] = 0\n",
    "            \n",
    "        if(completed_denum>0):\n",
    "            completed_iou_dict[id_obj] = float(completed_num/completed_denum)\n",
    "        else:\n",
    "            completed_iou_dict[id_obj] = 0\n",
    "            \n",
    "        if(missing_denum>0):\n",
    "            missing_iou_dict[id_obj] = float(missing_num/missing_denum)\n",
    "        else:\n",
    "            missing_iou_dict[id_obj] = 0\n",
    "          "
   ]
  },
  {
   "cell_type": "code",
   "execution_count": 7,
   "id": "f22ae6b5",
   "metadata": {},
   "outputs": [
    {
     "data": {
      "text/plain": [
       "43"
      ]
     },
     "execution_count": 7,
     "metadata": {},
     "output_type": "execute_result"
    }
   ],
   "source": [
    "len(gt_iou_dict)"
   ]
  },
  {
   "cell_type": "code",
   "execution_count": 6,
   "id": "ac0c6091",
   "metadata": {},
   "outputs": [
    {
     "name": "stdout",
     "output_type": "stream",
     "text": [
      "0.33970117290496266\n",
      "0.2835906955093295\n",
      "0.2674509629495256\n"
     ]
    }
   ],
   "source": [
    "print(np.mean(np.array(list(gt_iou_dict.values()))))\n",
    "print(np.mean(np.array(list(completed_iou_dict.values()))))\n",
    "print(np.mean(np.array(list(missing_iou_dict.values()))))"
   ]
  }
 ],
 "metadata": {
  "kernelspec": {
   "display_name": "idl",
   "language": "python",
   "name": "idl"
  },
  "language_info": {
   "codemirror_mode": {
    "name": "ipython",
    "version": 3
   },
   "file_extension": ".py",
   "mimetype": "text/x-python",
   "name": "python",
   "nbconvert_exporter": "python",
   "pygments_lexer": "ipython3",
   "version": "3.8.11"
  },
  "toc": {
   "base_numbering": 1,
   "nav_menu": {},
   "number_sections": true,
   "sideBar": true,
   "skip_h1_title": false,
   "title_cell": "Table of Contents",
   "title_sidebar": "Contents",
   "toc_cell": false,
   "toc_position": {},
   "toc_section_display": true,
   "toc_window_display": false
  }
 },
 "nbformat": 4,
 "nbformat_minor": 5
}
