{
 "cells": [
  {
   "cell_type": "code",
   "execution_count": 12,
   "metadata": {},
   "outputs": [],
   "source": [
    "import json\n",
    "import os"
   ]
  },
  {
   "cell_type": "code",
   "execution_count": 13,
   "metadata": {},
   "outputs": [],
   "source": [
    "bb_data = json.load(open(\"../top_150_50_new/test_bb_data.json\"))"
   ]
  },
  {
   "cell_type": "code",
   "execution_count": 14,
   "metadata": {},
   "outputs": [],
   "source": [
    "DIR = \"test_scenes/output\"\n",
    "for file in os.listdir(DIR):\n",
    "    file = os.path.join(DIR, file)\n",
    "    output_data = json.load(open(file))\n",
    "    path = output_data[\"path\"]\n",
    "    bb_output = bb_data[path]\n",
    "    output_data[\"height\"] = bb_output[\"height\"]\n",
    "    output_data[\"width\"] = bb_output[\"width\"]\n",
    "    output_data[\"gt_scene\"] = {\"relationships\": bb_output[\"GT_scene\"], \"objects\": bb_output[\"boxes\"]}\n",
    "    json.dump(output_data, open(file, \"w\"), indent=4)"
   ]
  },
  {
   "cell_type": "code",
   "execution_count": 5,
   "metadata": {},
   "outputs": [
    {
     "ename": "SyntaxError",
     "evalue": "invalid syntax (4052070947.py, line 1)",
     "output_type": "error",
     "traceback": [
      "\u001b[0;36m  File \u001b[0;32m\"/tmp/ipykernel_3046/4052070947.py\"\u001b[0;36m, line \u001b[0;32m1\u001b[0m\n\u001b[0;31m    du -hs ../code\u001b[0m\n\u001b[0m            ^\u001b[0m\n\u001b[0;31mSyntaxError\u001b[0m\u001b[0;31m:\u001b[0m invalid syntax\n"
     ]
    }
   ],
   "source": []
  },
  {
   "cell_type": "code",
   "execution_count": 5,
   "metadata": {},
   "outputs": [
    {
     "data": {
      "text/plain": [
       "{'boxes': [{'box': [133, 199, 174, 231], 'class': 'handle'},\n",
       "  {'box': [25, 107, 175, 230], 'class': 'racket'},\n",
       "  {'box': [103, 78, 232, 210], 'class': 'shirt'},\n",
       "  {'box': [92, 48, 271, 397], 'class': 'woman'},\n",
       "  {'box': [92, 180, 202, 263], 'class': 'short'},\n",
       "  {'box': [198, 0, 250, 24], 'class': 'pant'},\n",
       "  {'box': [183, 1, 259, 66], 'class': 'person'},\n",
       "  {'box': [104, 337, 228, 398], 'class': 'shoe'},\n",
       "  {'box': [92, 48, 271, 397], 'class': 'person'},\n",
       "  {'box': [133, 199, 174, 231], 'class': 'hand'},\n",
       "  {'box': [143, 79, 187, 138], 'class': 'head'},\n",
       "  {'box': [141, 69, 189, 107], 'class': 'hair'},\n",
       "  {'box': [223, 2, 256, 26], 'class': 'leg'},\n",
       "  {'box': [197, 0, 228, 20], 'class': 'leg'},\n",
       "  {'box': [158, 248, 214, 363], 'class': 'leg'},\n",
       "  {'box': [96, 237, 140, 346], 'class': 'leg'},\n",
       "  {'box': [106, 79, 219, 373], 'class': 'person'},\n",
       "  {'box': [104, 337, 228, 398], 'class': 'foot'},\n",
       "  {'box': [193, 50, 271, 116], 'class': 'arm'},\n",
       "  {'box': [127, 152, 173, 259], 'class': 'arm'},\n",
       "  {'box': [213, 55, 248, 95], 'class': 'hand'},\n",
       "  {'box': [138, 207, 171, 228], 'class': 'hand'}],\n",
       " 'height': 500,\n",
       " 'width': 333,\n",
       " 'GT_scene': [{'sub_id': 1, 'predicate': 'with', 'obj_id': 0},\n",
       "  {'sub_id': 3, 'predicate': 'in', 'obj_id': 2},\n",
       "  {'sub_id': 3, 'predicate': 'in', 'obj_id': 4},\n",
       "  {'sub_id': 6, 'predicate': 'in', 'obj_id': 5},\n",
       "  {'sub_id': 8, 'predicate': 'in', 'obj_id': 7},\n",
       "  {'sub_id': 1, 'predicate': 'in', 'obj_id': 9},\n",
       "  {'sub_id': 1, 'predicate': 'in', 'obj_id': 9},\n",
       "  {'sub_id': 11, 'predicate': 'on', 'obj_id': 10},\n",
       "  {'sub_id': 8, 'predicate': 'have', 'obj_id': 10},\n",
       "  {'sub_id': 6, 'predicate': 'have', 'obj_id': 12},\n",
       "  {'sub_id': 6, 'predicate': 'have', 'obj_id': 13},\n",
       "  {'sub_id': 8, 'predicate': 'have', 'obj_id': 14},\n",
       "  {'sub_id': 16, 'predicate': 'have', 'obj_id': 15},\n",
       "  {'sub_id': 16, 'predicate': 'have', 'obj_id': 17},\n",
       "  {'sub_id': 16, 'predicate': 'have', 'obj_id': 18},\n",
       "  {'sub_id': 16, 'predicate': 'have', 'obj_id': 19},\n",
       "  {'sub_id': 16, 'predicate': 'have', 'obj_id': 18},\n",
       "  {'sub_id': 16, 'predicate': 'have', 'obj_id': 20},\n",
       "  {'sub_id': 16, 'predicate': 'have', 'obj_id': 21},\n",
       "  {'sub_id': 16, 'predicate': 'have', 'obj_id': 21},\n",
       "  {'sub_id': 3, 'predicate': 'wear', 'obj_id': 2},\n",
       "  {'sub_id': 3, 'predicate': 'wear', 'obj_id': 2},\n",
       "  {'sub_id': 3, 'predicate': 'wear', 'obj_id': 4}]}"
      ]
     },
     "execution_count": 5,
     "metadata": {},
     "output_type": "execute_result"
    }
   ],
   "source": [
    "bb_data[\"912.jpg\"]"
   ]
  },
  {
   "cell_type": "code",
   "execution_count": 7,
   "metadata": {},
   "outputs": [],
   "source": [
    "input_data = json.load(open(\"test_scenes/all_samples.json\"))"
   ]
  },
  {
   "cell_type": "code",
   "execution_count": 10,
   "metadata": {},
   "outputs": [
    {
     "data": {
      "text/plain": [
       "[(2563,\n",
       "  [['person,have,arm',\n",
       "    'woman,wear,shirt',\n",
       "    'person,have,leg',\n",
       "    'person,in,pant',\n",
       "    'person,have,hand',\n",
       "    'person,have,leg',\n",
       "    'person,have,arm',\n",
       "    'person,have,foot',\n",
       "    'person,have,head',\n",
       "    'woman,in,short',\n",
       "    'person,have,arm',\n",
       "    'person,have,hand',\n",
       "    'woman,in,shirt',\n",
       "    'hair,on,head',\n",
       "    'racket,in,hand',\n",
       "    'woman,wear,shirt',\n",
       "    'person,have,leg',\n",
       "    'person,have,leg',\n",
       "    'person,have,hand'],\n",
       "   'with,handle',\n",
       "   '912.jpg'])]"
      ]
     },
     "execution_count": 10,
     "metadata": {},
     "output_type": "execute_result"
    }
   ],
   "source": [
    "[(id, x) for id, x in enumerate(input_data) if x[-1] == \"912.jpg\"]"
   ]
  },
  {
   "cell_type": "code",
   "execution_count": 11,
   "metadata": {},
   "outputs": [
    {
     "data": {
      "text/plain": [
       "4106"
      ]
     },
     "execution_count": 11,
     "metadata": {},
     "output_type": "execute_result"
    }
   ],
   "source": [
    "len(input_data)"
   ]
  },
  {
   "cell_type": "code",
   "execution_count": null,
   "metadata": {},
   "outputs": [],
   "source": []
  }
 ],
 "metadata": {
  "interpreter": {
   "hash": "5b2c14c5f2a3b21e6c2412c8196f5145870350e81c0b737cae3e5c60eb1e1eac"
  },
  "kernelspec": {
   "display_name": "Python 3.8.12 ('pytorch_p38')",
   "language": "python",
   "name": "python3"
  },
  "language_info": {
   "codemirror_mode": {
    "name": "ipython",
    "version": 3
   },
   "file_extension": ".py",
   "mimetype": "text/x-python",
   "name": "python",
   "nbconvert_exporter": "python",
   "pygments_lexer": "ipython3",
   "version": "3.8.12"
  },
  "orig_nbformat": 4
 },
 "nbformat": 4,
 "nbformat_minor": 2
}
